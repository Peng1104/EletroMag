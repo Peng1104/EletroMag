{
 "cells": [
  {
   "cell_type": "markdown",
   "metadata": {},
   "source": [
    "# **Insper - Eletromagnetismo e Ondulatória** #\n",
    "\n",
    "\n",
    "**Aula 8 - Transformador**\n",
    "\n",
    "**Item 14** - Calculando correntes e tensões em um transformador AC\n",
    "\n"
   ]
  },
  {
   "cell_type": "code",
   "execution_count": 80,
   "metadata": {},
   "outputs": [],
   "source": [
    "#Vamos importar os módulos que precisamos\n",
    "from cmath import *\n",
    "from numpy import linalg\n",
    "import numpy as np"
   ]
  },
  {
   "cell_type": "markdown",
   "metadata": {},
   "source": [
    "---\n",
    "Na célula a seguir:\n",
    "\n",
    "a) Declare os parâmetros de nosso transformador: $R_1=6\\Omega$, $R_2=3\\Omega$, $L_1=300mH$, $L_2=30mH$, frequência $f=60 Hz$ e tensão $V_1=50cos(\\omega t)$.\n",
    "\n",
    "b) Calcule:\n",
    "\n",
    "- Frequência angular $\\omega$\n",
    "- Indutância Mútua $M$\n",
    "- Reatâncias indutivas de $L_1$ e $L_2$, ou seja $XL1$ e $XL2$\n",
    "- Reatância indutiva mútua $XM$\n",
    "\n",
    "Obsrvação: o número complexo $j=\\sqrt{-1}$ é nativo da linguagem Python. Para escrever $j$, digite \"1j\""
   ]
  },
  {
   "cell_type": "code",
   "execution_count": 81,
   "metadata": {},
   "outputs": [],
   "source": [
    "# Use essa célula para implementar os itens a) a b)\n",
    "R1=6\n",
    "R2=3\n",
    "L1=300e-3\n",
    "L2=30e-3\n",
    "M=sqrt(L1*L2)\n",
    "f=60\n",
    "V1=50\n",
    "\n",
    "w=2*pi*f\n",
    "XL1=1j*w*L1\n",
    "XL2=1j*w*L2\n",
    "XM=1j*w*M"
   ]
  },
  {
   "cell_type": "markdown",
   "metadata": {},
   "source": [
    "c) Observe a função que criamos na célula abaixo. Tente explicar o que ela faz."
   ]
  },
  {
   "cell_type": "code",
   "execution_count": 82,
   "metadata": {},
   "outputs": [],
   "source": [
    "def CalcularTransformador(Uf, Rc):\n",
    "    Z=np.array([[R1+XL1, -XM],[-XM, XL2+R2+Rc]])\n",
    "    V=np.array([Uf,0])\n",
    "    i=np.dot(linalg.inv(Z),V)\n",
    "    return i[0], i[1]"
   ]
  },
  {
   "cell_type": "markdown",
   "metadata": {},
   "source": [
    "d) Calcule as correntes $i_1$ e $i_2$ para três condições de carga ($R_C=1M\\Omega$, $R_C=100\\Omega$ e $R_C=1\\Omega$). Assim que calcular as correntes, calcule também $V_2$ para cada resistor de carga (analise o circuito para saber como calculá-la). Por fim, calcule as relações $N_1/N_2$, $e_1/e_2$ e $V_1/V_2$ e, o mais importante: calcule as potências no primário ($S1$) e no secundário ($S2$).\n",
    "\n",
    "IMPORTANTE: para dar print nas relações $N_1/N_2$, $V_1/V_2$ e $e_1/e_2$, você precisará usar o **módulo dos fasores**. Para calcular o módulo de um número complexo, use \"np.abs(número complexo)\"."
   ]
  },
  {
   "cell_type": "code",
   "execution_count": 83,
   "metadata": {},
   "outputs": [
    {
     "name": "stdout",
     "output_type": "stream",
     "text": [
      "Para Rc = 1000000.0 Ohms: i1 = 0.44A, i2 = 0.00A\n",
      "V2 = 15.79V\n",
      "V1|V2 = 3.17V\n",
      "e1 = 49.93V\n",
      "e2 = 15.79V\n",
      "e1|e2 = N1|N2 = 3.16\n",
      "S1 = 11.04VA\n",
      "S2 = 0.00VA \n",
      "\n",
      "Para Rc = 100.0 Ohms: i1 = 0.44A, i2 = 0.15A\n",
      "V2 = 15.24V\n",
      "V1|V2 = 3.28V\n",
      "e1 = 49.64V\n",
      "e2 = 15.70V\n",
      "e1|e2 = N1|N2 = 3.16\n",
      "S1 = 11.04VA\n",
      "S2 = 1.16VA \n",
      "\n",
      "Para Rc = 1 Ohms: i1 = 1.15A, i2 = 3.43A\n",
      "V2 = 3.43V\n",
      "V1|V2 = 14.56V\n",
      "e1 = 43.43V\n",
      "e2 = 13.73V\n",
      "e1|e2 = N1|N2 = 3.16\n",
      "S1 = 28.79VA\n",
      "S2 = 5.89VA \n",
      "\n"
     ]
    }
   ],
   "source": [
    "# Use essa célula para implementar o item d)\n",
    "rcs = [1e6, 1e2, 1]\n",
    "for rc in rcs:\n",
    "    i1, i2 = CalcularTransformador(V1, rc)\n",
    "    print(f\"Para Rc = {rc} Ohms: i1 = {np.abs(i1):.2f}A, i2 = {np.abs(i2):.2f}A\")\n",
    "    print(f\"V2 = {np.abs(i2*rc):.2f}V\")\n",
    "    print(f\"V1|V2 = {V1/np.abs(i2*rc):.2f}V\")\n",
    "    print(f\"e1 = {np.abs(-XL1*i1+XM*i2):.2f}V\")\n",
    "    print(f\"e2 = {np.abs(-XM*i1+XL2*i2):.2f}V\")\n",
    "    print(f\"e1|e2 = N1|N2 = {(np.abs(-XL1*i1+XM*i2)/np.abs(-XM*i1+XL2*i2)):.2f}\")\n",
    "    print(f\"S1 = {np.abs(V1/sqrt(2)*i1.conjugate()/sqrt(2)):.2f}VA\")\n",
    "    print(f\"S2 = {np.abs((i2*rc)/sqrt(2)*i2.conjugate()/sqrt(2)):.2f}VA \\n\")"
   ]
  },
  {
   "cell_type": "markdown",
   "metadata": {},
   "source": [
    "e) Recalcule o item **d)**, mas agora considerando que o transformador é **ideal**. Para isso, basta zerar as resistências R1 e R2 do primário e do secundário. Após zer-a-las, copie o código do item d) na célula abaixo. O que você pode concluir sobre a potência real nas três condições de carga?"
   ]
  },
  {
   "cell_type": "code",
   "execution_count": 84,
   "metadata": {},
   "outputs": [
    {
     "name": "stdout",
     "output_type": "stream",
     "text": [
      "Para Rc = 1000000.0 Ohms: i1 = 0.44A, i2 = 0.00A\n",
      "V2 = 15.81V\n",
      "V1|V2 = 3.16V\n",
      "e1 = 50.00V\n",
      "e2 = 15.81V\n",
      "e1|e2 = N1|N2 = 3.16\n",
      "S1 = 11.05VA\n",
      "S2 = 0.00VA \n",
      "\n",
      "Para Rc = 100.0 Ohms: i1 = 0.44A, i2 = 0.16A\n",
      "V2 = 15.81V\n",
      "V1|V2 = 3.16V\n",
      "e1 = 50.00V\n",
      "e2 = 15.81V\n",
      "e1|e2 = N1|N2 = 3.16\n",
      "S1 = 11.12VA\n",
      "S2 = 1.25VA \n",
      "\n",
      "Para Rc = 1 Ohms: i1 = 5.02A, i2 = 15.81A\n",
      "V2 = 15.81V\n",
      "V1|V2 = 3.16V\n",
      "e1 = 50.00V\n",
      "e2 = 15.81V\n",
      "e1|e2 = N1|N2 = 3.16\n",
      "S1 = 125.49VA\n",
      "S2 = 125.00VA \n",
      "\n"
     ]
    }
   ],
   "source": [
    "# Use essa célula para implementar o item e)\n",
    "R1=0\n",
    "R2=0\n",
    "for rc in rcs:\n",
    "    i1, i2 = CalcularTransformador(V1, rc)\n",
    "    print(f\"Para Rc = {rc} Ohms: i1 = {np.abs(i1):.2f}A, i2 = {np.abs(i2):.2f}A\")\n",
    "    print(f\"V2 = {np.abs(i2*rc):.2f}V\")\n",
    "    print(f\"V1|V2 = {V1/np.abs(i2*rc):.2f}V\")\n",
    "    print(f\"e1 = {np.abs(-XL1*i1+XM*i2):.2f}V\")\n",
    "    print(f\"e2 = {np.abs(-XM*i1+XL2*i2):.2f}V\")\n",
    "    print(f\"e1|e2 = N1|N2 = {(np.abs(-XL1*i1+XM*i2)/np.abs(-XM*i1+XL2*i2)):.2f}\")\n",
    "    print(f\"S1 = {np.abs(V1/sqrt(2)*i1.conjugate()/sqrt(2)):.2f}VA\")\n",
    "    print(f\"S2 = {np.abs((i2*rc)/sqrt(2)*i2.conjugate()/sqrt(2)):.2f}VA \\n\")"
   ]
  }
 ],
 "metadata": {
  "kernelspec": {
   "display_name": "Python 3 (ipykernel)",
   "language": "python",
   "name": "python3"
  },
  "language_info": {
   "codemirror_mode": {
    "name": "ipython",
    "version": 3
   },
   "file_extension": ".py",
   "mimetype": "text/x-python",
   "name": "python",
   "nbconvert_exporter": "python",
   "pygments_lexer": "ipython3",
   "version": "3.10.9"
  }
 },
 "nbformat": 4,
 "nbformat_minor": 2
}
