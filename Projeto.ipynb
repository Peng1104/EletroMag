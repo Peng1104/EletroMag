{
 "cells": [
  {
   "attachments": {},
   "cell_type": "markdown",
   "metadata": {},
   "source": [
    "# **EletroMag - Medidor eletrônico de energia** #"
   ]
  },
  {
   "cell_type": "code",
   "execution_count": null,
   "metadata": {},
   "outputs": [],
   "source": [
    "#Bibliotecas\n",
    "from cmath import *\n",
    "from numpy import linalg\n",
    "import numpy as np"
   ]
  },
  {
   "attachments": {},
   "cell_type": "markdown",
   "metadata": {},
   "source": [
    "---\n",
    "Na célula a seguir serão definidas os parâmetros do sistema já conhecidos.:\n"
   ]
  },
  {
   "cell_type": "code",
   "execution_count": null,
   "metadata": {},
   "outputs": [],
   "source": [
    "R1=6\n",
    "R2=3\n",
    "R3=3\n",
    "R4=6\n",
    "L1=300e-3\n",
    "L2=30e-3\n",
    "L3=1\n",
    "L4=1\n",
    "M1=sqrt(L1*L2)\n",
    "M2=sqrt(L3*L4)\n",
    "f=60\n",
    "V1=220\n",
    "\n",
    "w=2*pi*f\n",
    "XL1=1j*w*L1\n",
    "XL2=1j*w*L2\n",
    "XL3=1j*w*L3\n",
    "XL4=1j*w*L4\n",
    "XM1=1j*w*M1\n",
    "XM2=1j*w*M2"
   ]
  },
  {
   "attachments": {},
   "cell_type": "markdown",
   "metadata": {},
   "source": [
    "---\n",
    "Definindo as funções que serão utilizadas no projeto:"
   ]
  },
  {
   "cell_type": "code",
   "execution_count": null,
   "metadata": {},
   "outputs": [],
   "source": [
    "def CalcularTransformadorDeCorrente(Uf, Rs,Rs):\n",
    "    Z=np.array([[R1+XL1, -XM],[-XM, XL2+R2+Rc]])\n",
    "    V=np.array([Uf,0])\n",
    "    i=np.dot(linalg.inv(Z),V)\n",
    "    return i[0], i[1]"
   ]
  }
 ],
 "metadata": {
  "language_info": {
   "name": "python"
  },
  "orig_nbformat": 4
 },
 "nbformat": 4,
 "nbformat_minor": 2
}
